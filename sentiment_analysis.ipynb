{
 "cells": [
  {
   "cell_type": "code",
   "execution_count": 1,
   "id": "bfbb3ebc",
   "metadata": {},
   "outputs": [],
   "source": [
    "import pandas as pd\n",
    "import tensorflow as tf \n",
    "import numpy as np\n",
    "\n",
    "from sklearn.model_selection import train_test_split\n",
    "from sklearn.metrics import confusion_matrix\n",
    "\n",
    "import datasets\n",
    "from datasets import Dataset\n",
    "\n",
    "from transformers import AutoTokenizer, TFBertForSequenceClassification, AdamWeightDecay\n"
   ]
  },
  {
   "cell_type": "markdown",
   "id": "07796c07",
   "metadata": {},
   "source": [
    "## Load the data and do some basic preprocessing."
   ]
  },
  {
   "cell_type": "code",
   "execution_count": 2,
   "id": "2c9d35af",
   "metadata": {},
   "outputs": [
    {
     "data": {
      "text/html": [
       "<div>\n",
       "<style scoped>\n",
       "    .dataframe tbody tr th:only-of-type {\n",
       "        vertical-align: middle;\n",
       "    }\n",
       "\n",
       "    .dataframe tbody tr th {\n",
       "        vertical-align: top;\n",
       "    }\n",
       "\n",
       "    .dataframe thead th {\n",
       "        text-align: right;\n",
       "    }\n",
       "</style>\n",
       "<table border=\"1\" class=\"dataframe\">\n",
       "  <thead>\n",
       "    <tr style=\"text-align: right;\">\n",
       "      <th></th>\n",
       "      <th>textID</th>\n",
       "      <th>text</th>\n",
       "      <th>sentiment</th>\n",
       "    </tr>\n",
       "  </thead>\n",
       "  <tbody>\n",
       "    <tr>\n",
       "      <th>0</th>\n",
       "      <td>cb774db0d1</td>\n",
       "      <td>I`d have responded, if I were going</td>\n",
       "      <td>neutral</td>\n",
       "    </tr>\n",
       "    <tr>\n",
       "      <th>1</th>\n",
       "      <td>549e992a42</td>\n",
       "      <td>Sooo SAD I will miss you here in San Diego!!!</td>\n",
       "      <td>negative</td>\n",
       "    </tr>\n",
       "    <tr>\n",
       "      <th>2</th>\n",
       "      <td>088c60f138</td>\n",
       "      <td>my boss is bullying me...</td>\n",
       "      <td>negative</td>\n",
       "    </tr>\n",
       "    <tr>\n",
       "      <th>3</th>\n",
       "      <td>9642c003ef</td>\n",
       "      <td>what interview! leave me alone</td>\n",
       "      <td>negative</td>\n",
       "    </tr>\n",
       "    <tr>\n",
       "      <th>4</th>\n",
       "      <td>358bd9e861</td>\n",
       "      <td>Sons of ****, why couldn`t they put them on t...</td>\n",
       "      <td>negative</td>\n",
       "    </tr>\n",
       "  </tbody>\n",
       "</table>\n",
       "</div>"
      ],
      "text/plain": [
       "       textID                                               text sentiment\n",
       "0  cb774db0d1                I`d have responded, if I were going   neutral\n",
       "1  549e992a42      Sooo SAD I will miss you here in San Diego!!!  negative\n",
       "2  088c60f138                          my boss is bullying me...  negative\n",
       "3  9642c003ef                     what interview! leave me alone  negative\n",
       "4  358bd9e861   Sons of ****, why couldn`t they put them on t...  negative"
      ]
     },
     "execution_count": 2,
     "metadata": {},
     "output_type": "execute_result"
    }
   ],
   "source": [
    "tweets = pd.read_csv(\"tweets.csv\")\n",
    "tweets.head()"
   ]
  },
  {
   "cell_type": "code",
   "execution_count": 3,
   "id": "938948a9",
   "metadata": {},
   "outputs": [
    {
     "name": "stdout",
     "output_type": "stream",
     "text": [
      "TOTAL tweets :  27481\n"
     ]
    },
    {
     "data": {
      "text/html": [
       "<div>\n",
       "<style scoped>\n",
       "    .dataframe tbody tr th:only-of-type {\n",
       "        vertical-align: middle;\n",
       "    }\n",
       "\n",
       "    .dataframe tbody tr th {\n",
       "        vertical-align: top;\n",
       "    }\n",
       "\n",
       "    .dataframe thead th {\n",
       "        text-align: right;\n",
       "    }\n",
       "</style>\n",
       "<table border=\"1\" class=\"dataframe\">\n",
       "  <thead>\n",
       "    <tr style=\"text-align: right;\">\n",
       "      <th></th>\n",
       "      <th>label</th>\n",
       "      <th>text</th>\n",
       "    </tr>\n",
       "  </thead>\n",
       "  <tbody>\n",
       "    <tr>\n",
       "      <th>0</th>\n",
       "      <td>1</td>\n",
       "      <td>I`d have responded, if I were going</td>\n",
       "    </tr>\n",
       "    <tr>\n",
       "      <th>1</th>\n",
       "      <td>0</td>\n",
       "      <td>Sooo SAD I will miss you here in San Diego!!!</td>\n",
       "    </tr>\n",
       "    <tr>\n",
       "      <th>2</th>\n",
       "      <td>0</td>\n",
       "      <td>my boss is bullying me...</td>\n",
       "    </tr>\n",
       "    <tr>\n",
       "      <th>3</th>\n",
       "      <td>0</td>\n",
       "      <td>what interview! leave me alone</td>\n",
       "    </tr>\n",
       "    <tr>\n",
       "      <th>4</th>\n",
       "      <td>0</td>\n",
       "      <td>Sons of ****, why couldn`t they put them on t...</td>\n",
       "    </tr>\n",
       "  </tbody>\n",
       "</table>\n",
       "</div>"
      ],
      "text/plain": [
       "   label                                               text\n",
       "0      1                I`d have responded, if I were going\n",
       "1      0      Sooo SAD I will miss you here in San Diego!!!\n",
       "2      0                          my boss is bullying me...\n",
       "3      0                     what interview! leave me alone\n",
       "4      0   Sons of ****, why couldn`t they put them on t..."
      ]
     },
     "execution_count": 3,
     "metadata": {},
     "output_type": "execute_result"
    }
   ],
   "source": [
    "\n",
    "# Won't need textID?\n",
    "del tweets['textID']\n",
    "\n",
    "tweets.rename(columns = {'sentiment':'label'}, inplace = True)\n",
    "tweets = tweets[['label', 'text']]\n",
    "\n",
    "# Map emotions to ints\n",
    "# 0  - > Negative\n",
    "# 1  - > Neutral\n",
    "# 2  - > Positive\n",
    "tweets.label = tweets.label.replace([\"negative\"], 0)\n",
    "tweets.label = tweets.label.replace([\"neutral\"], 1)\n",
    "tweets.label = tweets.label.replace([\"positive\"], 2)\n",
    "\n",
    "# Use RegEx to remove all http and https links.\n",
    "tweets.text = tweets.text.replace(to_replace='https?://\\S* *', regex=True, value='')\n",
    "\n",
    "print(\"TOTAL tweets : \", len(tweets))\n",
    "\n",
    "tweets.head()"
   ]
  },
  {
   "cell_type": "code",
   "execution_count": 4,
   "id": "565272bc",
   "metadata": {},
   "outputs": [
    {
     "name": "stdout",
     "output_type": "stream",
     "text": [
      "True\n",
      "False\n"
     ]
    }
   ],
   "source": [
    "# Check for null values\n",
    "print(tweets['text'].isnull().values.any())\n",
    "print(tweets['label'].isnull().values.any())"
   ]
  },
  {
   "cell_type": "code",
   "execution_count": 5,
   "id": "6dc73c9d",
   "metadata": {},
   "outputs": [],
   "source": [
    "# Drop them\n",
    "tweets = tweets.dropna()\n"
   ]
  },
  {
   "cell_type": "code",
   "execution_count": 6,
   "id": "beb97772",
   "metadata": {},
   "outputs": [
    {
     "data": {
      "text/plain": [
       "<AxesSubplot:title={'center':'Count of emotions'}>"
      ]
     },
     "execution_count": 6,
     "metadata": {},
     "output_type": "execute_result"
    },
    {
     "data": {
      "image/png": "[encoded data removed]",
      "text/plain": [
       "<Figure size 576x288 with 1 Axes>"
      ]
     },
     "metadata": {
      "needs_background": "light"
     },
     "output_type": "display_data"
    }
   ],
   "source": [
    "tweets.label.value_counts().plot(kind = 'bar', title = 'Count of emotions', figsize = (8,4))"
   ]
  },
  {
   "cell_type": "markdown",
   "id": "a9bd3e44",
   "metadata": {},
   "source": [
    "## Create a train/val/test split (70/10/20)"
   ]
  },
  {
   "cell_type": "code",
   "execution_count": 7,
   "id": "c1ae94fa",
   "metadata": {},
   "outputs": [
    {
     "name": "stdout",
     "output_type": "stream",
     "text": [
      "Train : 70.00\n",
      "Validation : 10.20\n",
      "Test : 19.80\n"
     ]
    }
   ],
   "source": [
    "\n",
    "train, rest = train_test_split(tweets, test_size=0.3, shuffle = False)\n",
    "val, test = train_test_split(rest, test_size=0.66, shuffle = False)\n",
    "\n",
    "per_cent = lambda x : len(x)*100/len(tweets)\n",
    "\n",
    "print(\"Train : %.2f\\nValidation : %.2f\\nTest : %.2f\" % (per_cent(train), per_cent(val), per_cent(test)) )"
   ]
  },
  {
   "cell_type": "code",
   "execution_count": 8,
   "id": "13cf630b",
   "metadata": {},
   "outputs": [],
   "source": [
    "# Make them Dataset objects\n",
    "train = Dataset.from_pandas(train)\n",
    "val = Dataset.from_pandas(val)\n",
    "test = Dataset.from_pandas(test)\n",
    "\n",
    "# May need to remove this!\n",
    "train = train.remove_columns([\"__index_level_0__\"])\n",
    "val = val.remove_columns([\"__index_level_0__\"])\n",
    "test = test.remove_columns([\"__index_level_0__\"])\n",
    "\n",
    "# Split\n",
    "dataset = datasets.DatasetDict()\n",
    "dataset[\"train\"] = train\n",
    "dataset[\"val\"] = val\n",
    "dataset[\"test\"] = test"
   ]
  },
  {
   "cell_type": "markdown",
   "id": "4cbee59a",
   "metadata": {},
   "source": [
    "## Load the Base BERT model"
   ]
  },
  {
   "cell_type": "code",
   "execution_count": 9,
   "id": "d8099bbb",
   "metadata": {},
   "outputs": [
    {
     "name": "stderr",
     "output_type": "stream",
     "text": [
      "All model checkpoint layers were used when initializing TFBertForSequenceClassification.\n",
      "\n",
      "Some layers of TFBertForSequenceClassification were not initialized from the model checkpoint at bert-base-uncased and are newly initialized: ['classifier']\n",
      "You should probably TRAIN this model on a down-stream task to be able to use it for predictions and inference.\n",
      "No loss specified in compile() - the model's internal loss computation will be used as the loss. Don't panic - this is a common way to train TensorFlow models in Transformers! To disable this behaviour please pass a loss argument, or explicitly pass `loss=None` if you do not want your model to compute a loss.\n"
     ]
    },
    {
     "name": "stdout",
     "output_type": "stream",
     "text": [
      "Model: \"tf_bert_for_sequence_classification\"\n",
      "_________________________________________________________________\n",
      "Layer (type)                 Output Shape              Param #   \n",
      "=================================================================\n",
      "bert (TFBertMainLayer)       multiple                  109482240 \n",
      "_________________________________________________________________\n",
      "dropout_37 (Dropout)         multiple                  0         \n",
      "_________________________________________________________________\n",
      "classifier (Dense)           multiple                  2307      \n",
      "=================================================================\n",
      "Total params: 109,484,547\n",
      "Trainable params: 109,484,547\n",
      "Non-trainable params: 0\n",
      "_________________________________________________________________\n"
     ]
    }
   ],
   "source": [
    "\n",
    "model_checkpoint = \"bert-base-uncased\"\n",
    "\n",
    "model = TFBertForSequenceClassification.from_pretrained(model_checkpoint, num_labels = 3)\n",
    "\n",
    "tokenizer  = AutoTokenizer.from_pretrained(model_checkpoint)\n",
    "\n",
    "# May be too small!!\n",
    "optimizer = AdamWeightDecay(learning_rate=4e-5, weight_decay_rate=0.01)\n",
    "\n",
    "model.compile(optimizer=optimizer, metrics=['accuracy'])\n",
    "model.summary()\n"
   ]
  },
  {
   "cell_type": "markdown",
   "id": "c97475cb",
   "metadata": {},
   "source": [
    "## Tokenize all the tweets."
   ]
  },
  {
   "cell_type": "code",
   "execution_count": 10,
   "id": "2c400dcc",
   "metadata": {},
   "outputs": [
    {
     "data": {
      "application/vnd.jupyter.widget-view+json": {
       "model_id": "e0e23a7da885497cb4b4cfaff3dbdc2c",
       "version_major": 2,
       "version_minor": 0
      },
      "text/plain": [
       "  0%|          | 0/20 [00:00<?, ?ba/s]"
      ]
     },
     "metadata": {},
     "output_type": "display_data"
    },
    {
     "data": {
      "application/vnd.jupyter.widget-view+json": {
       "model_id": "56d2b7ef33d14926a5cbe15aded103f8",
       "version_major": 2,
       "version_minor": 0
      },
      "text/plain": [
       "  0%|          | 0/3 [00:00<?, ?ba/s]"
      ]
     },
     "metadata": {},
     "output_type": "display_data"
    },
    {
     "data": {
      "application/vnd.jupyter.widget-view+json": {
       "model_id": "89b2f3a3a08d48bcb6b4f638412fd983",
       "version_major": 2,
       "version_minor": 0
      },
      "text/plain": [
       "  0%|          | 0/6 [00:00<?, ?ba/s]"
      ]
     },
     "metadata": {},
     "output_type": "display_data"
    }
   ],
   "source": [
    "def tokenize_function(examples):\n",
    "    return tokenizer(examples[\"text\"], padding='longest')\n",
    "\n",
    "tokenized_dataset = dataset.map(tokenize_function, batched=True)\n",
    "\n",
    "tf_dataset_train = model.prepare_tf_dataset(tokenized_dataset[\"train\"], batch_size=8, shuffle=True, tokenizer = tokenizer)\n",
    "tf_dataset_val = model.prepare_tf_dataset(tokenized_dataset[\"val\"], batch_size=8, shuffle=True, tokenizer = tokenizer)\n",
    "tf_dataset_test = model.prepare_tf_dataset(tokenized_dataset[\"test\"], batch_size=8, shuffle=True, tokenizer = tokenizer)\n"
   ]
  },
  {
   "cell_type": "markdown",
   "id": "082675fe",
   "metadata": {},
   "source": [
    "## Fine - Tune"
   ]
  },
  {
   "cell_type": "code",
   "execution_count": 11,
   "id": "69c7261e",
   "metadata": {},
   "outputs": [
    {
     "name": "stdout",
     "output_type": "stream",
     "text": [
      "2404/2404 [==============================] - 362s 143ms/step - loss: 0.6039 - accuracy: 0.7525 - val_loss: 0.5348 - val_accuracy: 0.7857\n"
     ]
    }
   ],
   "source": [
    "#tf.config.run_functions_eagerly(True)\n",
    "with tf.device('/GPU:0'):\n",
    "    history = model.fit(x = tf_dataset_train, validation_data = tf_dataset_val, epochs=1)"
   ]
  },
  {
   "cell_type": "markdown",
   "id": "4e289d87",
   "metadata": {},
   "source": [
    "## Accuracy 78 % after 1 epoch!"
   ]
  },
  {
   "cell_type": "code",
   "execution_count": 12,
   "id": "15428089",
   "metadata": {},
   "outputs": [
    {
     "name": "stdout",
     "output_type": "stream",
     "text": [
      "680/680 [==============================] - 26s 38ms/step - loss: 0.5409 - accuracy: 0.7792\n"
     ]
    }
   ],
   "source": [
    "\n",
    "predictions = model.evaluate(tf_dataset_test, verbose=1)\n"
   ]
  },
  {
   "cell_type": "code",
   "execution_count": 13,
   "id": "24c71b36",
   "metadata": {},
   "outputs": [
    {
     "name": "stdout",
     "output_type": "stream",
     "text": [
      "2404/2404 [==============================] - 348s 145ms/step - loss: 0.4239 - accuracy: 0.8340 - val_loss: 0.5592 - val_accuracy: 0.7746\n"
     ]
    }
   ],
   "source": [
    "#tf.config.run_functions_eagerly(True)\n",
    "with tf.device('/GPU:0'):\n",
    "    history2 = model.fit(x = tf_dataset_train, validation_data = tf_dataset_val, epochs=1)"
   ]
  },
  {
   "cell_type": "code",
   "execution_count": 14,
   "id": "3cc1fbb5",
   "metadata": {},
   "outputs": [
    {
     "name": "stdout",
     "output_type": "stream",
     "text": [
      "680/680 [==============================] - 26s 39ms/step - loss: 0.5604 - accuracy: 0.7767\n"
     ]
    }
   ],
   "source": [
    "predictions2 = model.evaluate(tf_dataset_test, verbose=1)"
   ]
  },
  {
   "cell_type": "code",
   "execution_count": null,
   "id": "082af077",
   "metadata": {},
   "outputs": [],
   "source": [
    "#import os\n",
    "#model.save_weights(os.getcwd())# "
   ]
  },
  {
   "cell_type": "code",
   "execution_count": null,
   "id": "bc79274e",
   "metadata": {},
   "outputs": [],
   "source": [
    "predictions = []\n",
    "\n",
    "step = 50\n",
    "for i in range(0, len(test) , step):\n",
    "\n",
    "    batch = test['text'][i:i + step]\n",
    "    tokenized = tokenizer(batch, padding=True, return_tensors='tf')\n",
    "    output = model(tokenized)\n",
    "    \n",
    "    predicted_class_id = tf.math.argmax(output.logits, axis=-1)\n",
    "    predicted_class_id = predicted_class_id.numpy().tolist()\n",
    "    \n",
    "    predictions += predicted_class_id\n",
    "    \n",
    "\n"
   ]
  },
  {
   "cell_type": "code",
   "execution_count": 18,
   "id": "2892f77a",
   "metadata": {},
   "outputs": [
    {
     "data": {
      "text/plain": [
       "0.7767364939360529"
      ]
     },
     "execution_count": 18,
     "metadata": {},
     "output_type": "execute_result"
    }
   ],
   "source": [
    "a = np.array(predictions)   # actual labels\n",
    "b = np.array(test['label'])   # predicted labels\n",
    "\n",
    "correct = (a == b)\n",
    "accuracy = correct.sum() / correct.size\n",
    "accuracy"
   ]
  },
  {
   "cell_type": "code",
   "execution_count": 23,
   "id": "9c12acd1",
   "metadata": {},
   "outputs": [],
   "source": [
    "true = test['label']\n",
    "predict = predictions\n",
    "n_classes = 3"
   ]
  },
  {
   "cell_type": "code",
   "execution_count": 51,
   "id": "e4b5a518",
   "metadata": {},
   "outputs": [
    {
     "name": "stdout",
     "output_type": "stream",
     "text": [
      "              precision    recall  f1-score   support\n",
      "\n",
      "    Negative       0.77      0.79      0.78      1569\n",
      "     Neutral       0.75      0.74      0.75      2246\n",
      "    Positive       0.82      0.81      0.81      1627\n",
      "\n",
      "    accuracy                           0.78      5442\n",
      "   macro avg       0.78      0.78      0.78      5442\n",
      "weighted avg       0.78      0.78      0.78      5442\n",
      "\n"
     ]
    }
   ],
   "source": [
    "from sklearn.metrics import classification_report\n",
    "report = classification_report(true, predict, labels=[0,1,2], target_names=[\"Negative\", \"Neutral\", \"Positive\"])\n",
    "print(report)"
   ]
  },
  {
   "cell_type": "code",
   "execution_count": 82,
   "id": "a088c4d2",
   "metadata": {},
   "outputs": [
    {
     "data": {
      "text/plain": [
       "array([[1237,  297,   35],\n",
       "       [ 316, 1668,  262],\n",
       "       [  57,  248, 1322]], dtype=int64)"
      ]
     },
     "execution_count": 82,
     "metadata": {},
     "output_type": "execute_result"
    }
   ],
   "source": [
    "\n",
    "\n",
    "cm = confusion_matrix(test['label'], predict, labels=[0,1,2])\n"
   ]
  },
  {
   "cell_type": "code",
   "execution_count": 83,
   "id": "8fef5398",
   "metadata": {},
   "outputs": [],
   "source": [
    "\n",
    "def plot_confusion_matrix(cm,\n",
    "                          target_names,\n",
    "                          title='Confusion matrix',\n",
    "                          cmap=None,\n",
    "                          normalize=True):\n",
    "    \"\"\"\n",
    "    given a sklearn confusion matrix (cm), make a nice plot\n",
    "\n",
    "    Arguments\n",
    "    ---------\n",
    "    cm:           confusion matrix from sklearn.metrics.confusion_matrix\n",
    "\n",
    "    target_names: given classification classes such as [0, 1, 2]\n",
    "                  the class names, for example: ['high', 'medium', 'low']\n",
    "\n",
    "    title:        the text to display at the top of the matrix\n",
    "\n",
    "    cmap:         the gradient of the values displayed from matplotlib.pyplot.cm\n",
    "                  see http://matplotlib.org/examples/color/colormaps_reference.html\n",
    "                  plt.get_cmap('jet') or plt.cm.Blues\n",
    "\n",
    "    normalize:    If False, plot the raw numbers\n",
    "                  If True, plot the proportions\n",
    "\n",
    "    Usage\n",
    "    -----\n",
    "    plot_confusion_matrix(cm           = cm,                  # confusion matrix created by\n",
    "                                                              # sklearn.metrics.confusion_matrix\n",
    "                          normalize    = True,                # show proportions\n",
    "                          target_names = y_labels_vals,       # list of names of the classes\n",
    "                          title        = best_estimator_name) # title of graph\n",
    "\n",
    "    Citation\n",
    "    ---------\n",
    "    http://scikit-learn.org/stable/auto_examples/model_selection/plot_confusion_matrix.html\n",
    "\n",
    "    \"\"\"\n",
    "    import matplotlib.pyplot as plt\n",
    "    import numpy as np\n",
    "    import itertools\n",
    "\n",
    "    accuracy = np.trace(cm) / np.sum(cm).astype('float')\n",
    "    misclass = 1 - accuracy\n",
    "\n",
    "    if cmap is None:\n",
    "        cmap = plt.get_cmap('Blues')\n",
    "\n",
    "    plt.figure(figsize=(8, 6))\n",
    "    plt.imshow(cm, interpolation='nearest', cmap=cmap)\n",
    "    plt.title(title)\n",
    "    plt.colorbar()\n",
    "\n",
    "    if target_names is not None:\n",
    "        tick_marks = np.arange(len(target_names))\n",
    "        plt.xticks(tick_marks, target_names, rotation=45)\n",
    "        plt.yticks(tick_marks, target_names)\n",
    "\n",
    "    if normalize:\n",
    "        cm = cm.astype('float') / cm.sum(axis=1)[:, np.newaxis]\n",
    "\n",
    "\n",
    "    thresh = cm.max() / 1.5 if normalize else cm.max() / 2\n",
    "    for i, j in itertools.product(range(cm.shape[0]), range(cm.shape[1])):\n",
    "        if normalize:\n",
    "            plt.text(j, i, \"{:0.4f}\".format(cm[i, j]),\n",
    "                     horizontalalignment=\"center\",\n",
    "                     color=\"white\" if cm[i, j] > thresh else \"black\")\n",
    "        else:\n",
    "            plt.text(j, i, \"{:,}\".format(cm[i, j]),\n",
    "                     horizontalalignment=\"center\",\n",
    "                     color=\"white\" if cm[i, j] > thresh else \"black\")\n",
    "\n",
    "\n",
    "    plt.tight_layout()\n",
    "    plt.ylabel('True label')\n",
    "    plt.xlabel('Predicted label\\naccuracy={:0.4f}; misclass={:0.4f}'.format(accuracy, misclass))\n",
    "    plt.show()"
   ]
  },
  {
   "cell_type": "code",
   "execution_count": 85,
   "id": "ee902376",
   "metadata": {},
   "outputs": [
    {
     "data": {
      "image/png": "[encoded data removed]",
      "text/plain": [
       "<Figure size 576x432 with 2 Axes>"
      ]
     },
     "metadata": {
      "needs_background": "light"
     },
     "output_type": "display_data"
    }
   ],
   "source": [
    "plot_confusion_matrix(cm, target_names=[\"Negative\", \"Neutral\", \"Positive\"])\n",
    "\n",
    "# As expected the models finds it hard to distinguish neutral from the other 2 emotions.\n",
    "# It would perform much better if there were only 2 emotions.(bad, good)"
   ]
  },
  {
   "cell_type": "code",
   "execution_count": null,
   "id": "a4a666b2",
   "metadata": {},
   "outputs": [],
   "source": []
  }
 ],
 "metadata": {
  "kernelspec": {
   "display_name": "Python 3 (ipykernel)",
   "language": "python",
   "name": "python3"
  },
  "language_info": {
   "codemirror_mode": {
    "name": "ipython",
    "version": 3
   },
   "file_extension": ".py",
   "mimetype": "text/x-python",
   "name": "python",
   "nbconvert_exporter": "python",
   "pygments_lexer": "ipython3",
   "version": "3.9.12"
  }
 },
 "nbformat": 4,
 "nbformat_minor": 5
}
